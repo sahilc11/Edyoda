{
 "cells": [
  {
   "cell_type": "code",
   "execution_count": 1,
   "id": "5b381ffb",
   "metadata": {},
   "outputs": [],
   "source": [
    "import numpy as np"
   ]
  },
  {
   "cell_type": "markdown",
   "id": "098a90ff",
   "metadata": {},
   "source": [
    "# 1. Create a null vector of size 10 but the fifth value which is 1."
   ]
  },
  {
   "cell_type": "code",
   "execution_count": 5,
   "id": "040cf55f",
   "metadata": {},
   "outputs": [
    {
     "name": "stdout",
     "output_type": "stream",
     "text": [
      "[0. 0. 0. 0. 1. 0. 0. 0. 0. 0.]\n"
     ]
    }
   ],
   "source": [
    "x=np.zeros(10)\n",
    "x[4]=1\n",
    "print(x)"
   ]
  },
  {
   "cell_type": "markdown",
   "id": "2f75de22",
   "metadata": {},
   "source": [
    "# 2. Create a vector with values ranging from 10 to 49."
   ]
  },
  {
   "cell_type": "code",
   "execution_count": 6,
   "id": "93d22871",
   "metadata": {},
   "outputs": [
    {
     "name": "stdout",
     "output_type": "stream",
     "text": [
      "[10 11 12 13 14 15 16 17 18 19 20 21 22 23 24 25 26 27 28 29 30 31 32 33\n",
      " 34 35 36 37 38 39 40 41 42 43 44 45 46 47 48]\n"
     ]
    }
   ],
   "source": [
    "x=np.arange(10,49)\n",
    "print(x)"
   ]
  },
  {
   "cell_type": "markdown",
   "id": "0c0b90a1",
   "metadata": {},
   "source": [
    "# 3. Create a 3x3 matrix with values ranging from 0 to 8"
   ]
  },
  {
   "cell_type": "code",
   "execution_count": 7,
   "id": "fbb27ff1",
   "metadata": {},
   "outputs": [
    {
     "name": "stdout",
     "output_type": "stream",
     "text": [
      "[[0 1 2]\n",
      " [3 4 5]\n",
      " [6 7 8]]\n"
     ]
    }
   ],
   "source": [
    "x=np.arange(9).reshape(3,3)\n",
    "print(x)"
   ]
  },
  {
   "cell_type": "markdown",
   "id": "1f795bcf",
   "metadata": {},
   "source": [
    "# 4. Find indices of non-zero elements from [1,2,0,0,4,0]"
   ]
  },
  {
   "cell_type": "code",
   "execution_count": 10,
   "id": "a8696c5c",
   "metadata": {},
   "outputs": [
    {
     "data": {
      "text/plain": [
       "(array([0, 1, 4], dtype=int64),)"
      ]
     },
     "execution_count": 10,
     "metadata": {},
     "output_type": "execute_result"
    }
   ],
   "source": [
    "a=np.array([1,2,0,0,4,0])\n",
    "np.where(a>0)"
   ]
  },
  {
   "cell_type": "markdown",
   "id": "f44b2045",
   "metadata": {},
   "source": [
    "# 5. Create a 10x10 array with random values and find the minimum and maximum values."
   ]
  },
  {
   "cell_type": "code",
   "execution_count": 13,
   "id": "dd3ff2e2",
   "metadata": {},
   "outputs": [
    {
     "name": "stdout",
     "output_type": "stream",
     "text": [
      "[[0.79423652 0.13804221 0.78379186 0.3216567  0.72224167 0.11846785\n",
      "  0.40006084 0.3348035  0.52502687 0.52333596]\n",
      " [0.79692214 0.59794295 0.28912616 0.95194143 0.75775186 0.4734698\n",
      "  0.74711481 0.54684106 0.39746456 0.69307274]\n",
      " [0.37700233 0.04859654 0.22403951 0.44327611 0.95166887 0.47421913\n",
      "  0.14014582 0.81318626 0.13699902 0.96146656]\n",
      " [0.13640348 0.9776591  0.76223008 0.97112455 0.54466647 0.1255438\n",
      "  0.69459508 0.12393962 0.81738322 0.29428651]\n",
      " [0.75733869 0.21951324 0.55217145 0.59943997 0.73685579 0.60757266\n",
      "  0.51215271 0.05898226 0.23335341 0.6845967 ]\n",
      " [0.12435283 0.75265906 0.79800388 0.54529247 0.52329596 0.16123097\n",
      "  0.61468497 0.63814872 0.20376216 0.54267631]\n",
      " [0.91999231 0.59360365 0.40478028 0.52412394 0.98120198 0.67012438\n",
      "  0.03502653 0.30958518 0.92440916 0.08944822]\n",
      " [0.4262347  0.0643337  0.45385518 0.11057157 0.33449184 0.72646085\n",
      "  0.72251234 0.2621808  0.20650529 0.93130569]\n",
      " [0.9842486  0.76846382 0.19209855 0.8955572  0.67427978 0.88540001\n",
      "  0.04823986 0.27304803 0.85318795 0.94425259]\n",
      " [0.5222186  0.2705625  0.34925407 0.3508266  0.36700567 0.20487614\n",
      "  0.77118639 0.38778711 0.1626803  0.51826355]]\n",
      "Maximum value:  0.984248598020629\n",
      "Minimum value:  0.035026527341215585\n"
     ]
    }
   ],
   "source": [
    "a=np.random.random((10,10))\n",
    "print(a)\n",
    "print('Maximum value: ', a.max())\n",
    "print('Minimum value: ', a.min())"
   ]
  },
  {
   "cell_type": "markdown",
   "id": "899e8a48",
   "metadata": {},
   "source": [
    "# 6. Create a random vector of size 30 and find the mean value."
   ]
  },
  {
   "cell_type": "code",
   "execution_count": 14,
   "id": "d20938d2",
   "metadata": {},
   "outputs": [
    {
     "name": "stdout",
     "output_type": "stream",
     "text": [
      "[0.07840765 0.40386392 0.9556299  0.91967456 0.52906776 0.3964983\n",
      " 0.14787961 0.88129536 0.56327247 0.49400956 0.13837738 0.30630979\n",
      " 0.87268853 0.92192589 0.43567294 0.21665166 0.43939356 0.1011962\n",
      " 0.7068564  0.88119917 0.90319893 0.82518181 0.59338824 0.78076168\n",
      " 0.93226539 0.32142108 0.00995053 0.42735949 0.44712228 0.96666564]\n",
      "Mean value:  0.5532395225410702\n"
     ]
    }
   ],
   "source": [
    "a=np.random.random(30)\n",
    "print(a)\n",
    "print('Mean value: ', np.mean(a))"
   ]
  }
 ],
 "metadata": {
  "kernelspec": {
   "display_name": "Python 3 (ipykernel)",
   "language": "python",
   "name": "python3"
  },
  "language_info": {
   "codemirror_mode": {
    "name": "ipython",
    "version": 3
   },
   "file_extension": ".py",
   "mimetype": "text/x-python",
   "name": "python",
   "nbconvert_exporter": "python",
   "pygments_lexer": "ipython3",
   "version": "3.9.12"
  }
 },
 "nbformat": 4,
 "nbformat_minor": 5
}
