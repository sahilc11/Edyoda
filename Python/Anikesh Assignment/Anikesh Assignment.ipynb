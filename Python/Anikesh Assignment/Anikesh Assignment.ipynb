{
 "cells": [
  {
   "cell_type": "markdown",
   "id": "eeafce2d",
   "metadata": {},
   "source": [
    "# Question 1"
   ]
  },
  {
   "cell_type": "code",
   "execution_count": 1,
   "id": "d240ff63",
   "metadata": {},
   "outputs": [
    {
     "name": "stdout",
     "output_type": "stream",
     "text": [
      "29\n"
     ]
    }
   ],
   "source": [
    "class Point:\n",
    "    def __init__(self, x, y, z):\n",
    "        self.x = x\n",
    "        self.y = y\n",
    "        self.z = z\n",
    "\n",
    "    def sq_sum(self):\n",
    "        print(self.x ** 2 + self.y ** 2 + self.z ** 2)\n",
    "\n",
    "s1 = Point(2, 3, 4)\n",
    "s1.sq_sum()"
   ]
  },
  {
   "cell_type": "markdown",
   "id": "dc149039",
   "metadata": {},
   "source": [
    "# Question 2"
   ]
  },
  {
   "cell_type": "code",
   "execution_count": 7,
   "id": "449be8f0",
   "metadata": {},
   "outputs": [
    {
     "name": "stdout",
     "output_type": "stream",
     "text": [
      "tejashri\n",
      "80\n",
      "90\n",
      "40\n",
      "total marks: 210\n",
      "percentage: 70.0\n"
     ]
    }
   ],
   "source": [
    "name = input()\n",
    "phy = int(input())\n",
    "chem = int(input())\n",
    "bio = int(input())\n",
    "        \n",
    "class Student:\n",
    "    def __init__(self, name, phy, chem, bio):\n",
    "        self.name = name\n",
    "        self.phy = phy\n",
    "        self.chem = chem\n",
    "        self.bio = bio\n",
    "        \n",
    "    def Total(self):\n",
    "        return self.phy + self.chem + self.bio\n",
    "    \n",
    "    def percentage(self):\n",
    "        return (Student.Total(self) / 300) * 100\n",
    "    \n",
    "std = Student(name, phy, chem, bio)\n",
    "print(\"total marks: {}\".format(std.Total()))\n",
    "print(\"percentage: {}\".format(std.percentage()))"
   ]
  },
  {
   "cell_type": "markdown",
   "id": "a69ea148",
   "metadata": {},
   "source": [
    "# Question 3"
   ]
  },
  {
   "cell_type": "code",
   "execution_count": 11,
   "id": "7fa3de8f",
   "metadata": {},
   "outputs": [
    {
     "name": "stdout",
     "output_type": "stream",
     "text": [
      "104\n",
      "84\n",
      "940\n",
      "9.4\n"
     ]
    }
   ],
   "source": [
    "class Calculator:\n",
    "    def __init__(self, num1, num2):\n",
    "        self.num1 = num1\n",
    "        self.num2 = num2\n",
    "    \n",
    "    def add(self):\n",
    "        return self.num1 + self.num2\n",
    "    def subtract(self):\n",
    "        return self.num1 - self.num2\n",
    "    def multiply(self):\n",
    "        return self.num1 * self.num2\n",
    "    def divide(self):\n",
    "        return self.num1 / self.num2\n",
    "    \n",
    "num = Calculator(94, 10)\n",
    "print(num.add())\n",
    "print(num.subtract())\n",
    "print(num.multiply())\n",
    "print(num.divide())"
   ]
  }
 ],
 "metadata": {
  "kernelspec": {
   "display_name": "Python 3 (ipykernel)",
   "language": "python",
   "name": "python3"
  },
  "language_info": {
   "codemirror_mode": {
    "name": "ipython",
    "version": 3
   },
   "file_extension": ".py",
   "mimetype": "text/x-python",
   "name": "python",
   "nbconvert_exporter": "python",
   "pygments_lexer": "ipython3",
   "version": "3.10.1"
  }
 },
 "nbformat": 4,
 "nbformat_minor": 5
}
