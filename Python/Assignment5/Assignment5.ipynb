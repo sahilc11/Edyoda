{
 "cells": [
  {
   "cell_type": "markdown",
   "id": "808b8e4e",
   "metadata": {},
   "source": [
    "# Write a Python class to implement pow(x, n)"
   ]
  },
  {
   "cell_type": "code",
   "execution_count": 19,
   "id": "c13dc132",
   "metadata": {},
   "outputs": [
    {
     "name": "stdout",
     "output_type": "stream",
     "text": [
      "Enter x: 10\n",
      "Enter n: 2\n",
      "Answer:  100\n"
     ]
    }
   ],
   "source": [
    "class Power():\n",
    "    def pow(self, x, n):\n",
    "        if x==0 or x==1 or n==1:\n",
    "            return x\n",
    "        if x==-1:\n",
    "            if n%2==0:\n",
    "                return 1\n",
    "            else:\n",
    "                return -1\n",
    "        if n==0:\n",
    "            return 1\n",
    "        if n<0:\n",
    "            return 1/self.pow(x, -n)\n",
    "        \n",
    "        val=self.pow(x, n//2)\n",
    "        \n",
    "        if n%2==0:\n",
    "            return val*val\n",
    "        return val*val*x\n",
    "\n",
    "x = int(input(\"Enter x: \"))\n",
    "n = int(input(\"Enter n: \"))\n",
    "print(\"Answer: \", Power().pow(x, n))"
   ]
  }
 ],
 "metadata": {
  "kernelspec": {
   "display_name": "Python 3 (ipykernel)",
   "language": "python",
   "name": "python3"
  },
  "language_info": {
   "codemirror_mode": {
    "name": "ipython",
    "version": 3
   },
   "file_extension": ".py",
   "mimetype": "text/x-python",
   "name": "python",
   "nbconvert_exporter": "python",
   "pygments_lexer": "ipython3",
   "version": "3.10.1"
  }
 },
 "nbformat": 4,
 "nbformat_minor": 5
}
