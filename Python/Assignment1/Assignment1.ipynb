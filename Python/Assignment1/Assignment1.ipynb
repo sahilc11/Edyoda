{
 "cells": [
  {
   "cell_type": "markdown",
   "id": "878c19e1",
   "metadata": {},
   "source": [
    "# Write a Python program to get the Fibonacci series between 0 to 50"
   ]
  },
  {
   "cell_type": "code",
   "execution_count": 6,
   "id": "2e1435d8",
   "metadata": {},
   "outputs": [
    {
     "name": "stdout",
     "output_type": "stream",
     "text": [
      "enter the number: 50\n",
      "0 1 1 2 3 5 8 13 21 34 "
     ]
    }
   ],
   "source": [
    "l = int(input(\"enter the number: \"))\n",
    "x, y = 0, 1\n",
    "print(x, end = \" \")\n",
    "while y < l+1:\n",
    "    print( y, end = \" \")\n",
    "    x, y = y, x + y"
   ]
  },
  {
   "cell_type": "markdown",
   "id": "8dfec019",
   "metadata": {},
   "source": [
    "# Write a Python program that accepts a word from the user and reverse it.\n",
    "\n"
   ]
  },
  {
   "cell_type": "code",
   "execution_count": 10,
   "id": "3af357d6",
   "metadata": {},
   "outputs": [
    {
     "name": "stdout",
     "output_type": "stream",
     "text": [
      "enter the word: Edyoda\n",
      "adoydE\n"
     ]
    }
   ],
   "source": [
    "str = input(\"enter the word: \")\n",
    "reverse_str = \"\"\n",
    "for i in str:\n",
    "    reverse_str = i + reverse_str\n",
    "print(reverse_str)"
   ]
  },
  {
   "cell_type": "markdown",
   "id": "e720048a",
   "metadata": {},
   "source": [
    "# Write a Python program to count the number of even and odd numbers from a series of numbers."
   ]
  },
  {
   "cell_type": "code",
   "execution_count": 15,
   "id": "b06512b2",
   "metadata": {},
   "outputs": [
    {
     "name": "stdout",
     "output_type": "stream",
     "text": [
      "number of even numbers: 4\n",
      "number of odd numbers: 5\n"
     ]
    }
   ],
   "source": [
    "numbers = (1, 2, 3, 4, 5, 6, 7, 8, 9)\n",
    "count_even = 0\n",
    "count_odd = 0\n",
    "for i in numbers:\n",
    "    if i%2 == 0:\n",
    "        count_even += 1\n",
    "    else:\n",
    "        count_odd += 1\n",
    "print(\"number of even numbers:\", count_even)\n",
    "print(\"number of odd numbers:\", count_odd)"
   ]
  },
  {
   "cell_type": "code",
   "execution_count": 17,
   "id": "1cb77901",
   "metadata": {},
   "outputs": [
    {
     "name": "stdout",
     "output_type": "stream",
     "text": [
      "enter the number 100\n",
      "number of even numbers: 50\n",
      "number of odd numbers: 50\n"
     ]
    }
   ],
   "source": [
    "l = int(input(\"enter the number \"))\n",
    "count_even = 0\n",
    "count_odd = 0\n",
    "for i in range(1, l+ 1):\n",
    "    if i%2 == 0:\n",
    "        count_even += 1\n",
    "    else:\n",
    "        count_odd += 1\n",
    "print(\"number of even numbers:\", count_even)\n",
    "print(\"number of odd numbers:\", count_odd)"
   ]
  }
 ],
 "metadata": {
  "kernelspec": {
   "display_name": "Python 3 (ipykernel)",
   "language": "python",
   "name": "python3"
  },
  "language_info": {
   "codemirror_mode": {
    "name": "ipython",
    "version": 3
   },
   "file_extension": ".py",
   "mimetype": "text/x-python",
   "name": "python",
   "nbconvert_exporter": "python",
   "pygments_lexer": "ipython3",
   "version": "3.10.1"
  }
 },
 "nbformat": 4,
 "nbformat_minor": 5
}
