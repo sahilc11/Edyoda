{
 "cells": [
  {
   "cell_type": "code",
   "execution_count": 3,
   "id": "d56efa8e",
   "metadata": {
    "scrolled": true
   },
   "outputs": [
    {
     "name": "stdout",
     "output_type": "stream",
     "text": [
      "number of even numbers: 4\n",
      "number of odd numbers: 5\n"
     ]
    }
   ],
   "source": [
    "numbers = (1, 2, 3, 4, 5, 6, 7, 8, 9)\n",
    "count_even = 0\n",
    "count_odd = 0\n",
    "for i in numbers:\n",
    "    if i%2 == 0:\n",
    "        count_even += 1\n",
    "    else:\n",
    "        count_odd += 1\n",
    "print(\"number of even numbers:\", count_even)\n",
    "print(\"number of odd numbers:\", count_odd)"
   ]
  },
  {
   "cell_type": "code",
   "execution_count": 8,
   "id": "908f11a1",
   "metadata": {},
   "outputs": [
    {
     "name": "stdout",
     "output_type": "stream",
     "text": [
      "enter the number 100\n",
      "number of even numbers: 50\n",
      "number of odd numbers: 50\n"
     ]
    }
   ],
   "source": [
    "l = int(input(\"enter the number \"))\n",
    "count_even = 0\n",
    "count_odd = 0\n",
    "for i in range(1, l+ 1):\n",
    "    if i%2 == 0:\n",
    "        count_even += 1\n",
    "    else:\n",
    "        count_odd += 1\n",
    "print(\"number of even numbers:\", count_even)\n",
    "print(\"number of odd numbers:\", count_odd)"
   ]
  }
 ],
 "metadata": {
  "kernelspec": {
   "display_name": "Python 3 (ipykernel)",
   "language": "python",
   "name": "python3"
  },
  "language_info": {
   "codemirror_mode": {
    "name": "ipython",
    "version": 3
   },
   "file_extension": ".py",
   "mimetype": "text/x-python",
   "name": "python",
   "nbconvert_exporter": "python",
   "pygments_lexer": "ipython3",
   "version": "3.10.1"
  }
 },
 "nbformat": 4,
 "nbformat_minor": 5
}
