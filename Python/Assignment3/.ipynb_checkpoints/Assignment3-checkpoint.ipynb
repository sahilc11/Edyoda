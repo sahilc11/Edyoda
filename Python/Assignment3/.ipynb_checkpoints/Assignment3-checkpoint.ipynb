{
 "cells": [
  {
   "cell_type": "markdown",
   "id": "53e54d1d",
   "metadata": {},
   "source": [
    "# Write a Python function to sum all the numbers in a list."
   ]
  },
  {
   "cell_type": "code",
   "execution_count": 33,
   "id": "ba19de0a",
   "metadata": {},
   "outputs": [
    {
     "name": "stdout",
     "output_type": "stream",
     "text": [
      "20\n"
     ]
    }
   ],
   "source": [
    "def sum(list1):\n",
    "    sum = 0\n",
    "    for i in list1:\n",
    "        sum += i\n",
    "    print(sum)\n",
    "list1 = [8, 2, 3, 0, 7]\n",
    "sum(list1)"
   ]
  },
  {
   "cell_type": "markdown",
   "id": "a0b1fa08",
   "metadata": {},
   "source": [
    "# Write a Python program to reverse a string."
   ]
  },
  {
   "cell_type": "code",
   "execution_count": 24,
   "id": "7da0de21",
   "metadata": {},
   "outputs": [
    {
     "name": "stdout",
     "output_type": "stream",
     "text": [
      "enter the string: abcd1234\n"
     ]
    },
    {
     "data": {
      "text/plain": [
       "'4321dcba'"
      ]
     },
     "execution_count": 24,
     "metadata": {},
     "output_type": "execute_result"
    }
   ],
   "source": [
    "def reverse(str1):\n",
    "    for i in str1:\n",
    "        string = (str1[::-1])\n",
    "    return string\n",
    "str1 = input(\"enter the string: \")\n",
    "reverse(str1)"
   ]
  },
  {
   "cell_type": "markdown",
   "id": "7ded44b5",
   "metadata": {},
   "source": [
    "# Write a Python function that accepts a string and calculate the number of upper case letters and lower case letters.\n",
    "\n"
   ]
  },
  {
   "cell_type": "code",
   "execution_count": 50,
   "id": "0b55e507",
   "metadata": {},
   "outputs": [
    {
     "name": "stdout",
     "output_type": "stream",
     "text": [
      "Enter the string: The quick Brow Fox\n",
      "No. of Upper case characters:  3\n",
      "No. of Lower case characters:  12\n"
     ]
    }
   ],
   "source": [
    "def func(string):\n",
    "    upperc = 0\n",
    "    lowerc = 0\n",
    "    for char in string:\n",
    "        if char.isupper():\n",
    "            upperc += 1\n",
    "        elif char.islower():\n",
    "            lowerc += 1\n",
    "    print(\"No. of Upper case characters: \", upperc)\n",
    "    print(\"No. of Lower case characters: \", lowerc)\n",
    "k = input(\"Enter the string: \")\n",
    "func(k)"
   ]
  }
 ],
 "metadata": {
  "kernelspec": {
   "display_name": "Python 3 (ipykernel)",
   "language": "python",
   "name": "python3"
  },
  "language_info": {
   "codemirror_mode": {
    "name": "ipython",
    "version": 3
   },
   "file_extension": ".py",
   "mimetype": "text/x-python",
   "name": "python",
   "nbconvert_exporter": "python",
   "pygments_lexer": "ipython3",
   "version": "3.10.1"
  }
 },
 "nbformat": 4,
 "nbformat_minor": 5
}
